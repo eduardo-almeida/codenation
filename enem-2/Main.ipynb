{
 "cells": [
  {
   "cell_type": "code",
   "execution_count": 1,
   "metadata": {},
   "outputs": [],
   "source": [
    "import pandas as pd\n",
    "import numpy as np\n",
    "from sklearn import metrics\n",
    "import matplotlib.pyplot as plt\n",
    "import seaborn as sns\n",
    "plt.style.use('ggplot')\n",
    "%matplotlib inline\n",
    "\n",
    "from sklearn.preprocessing import StandardScaler\n",
    "sc = StandardScaler()  "
   ]
  },
  {
   "cell_type": "code",
   "execution_count": 2,
   "metadata": {},
   "outputs": [],
   "source": [
    "train = pd.read_csv('./data/train.csv')\n",
    "test = pd.read_csv('./data/test.csv')"
   ]
  },
  {
   "cell_type": "code",
   "execution_count": 3,
   "metadata": {},
   "outputs": [
    {
     "name": "stdout",
     "output_type": "stream",
     "text": [
      "NU_NOTA_MT                1.000000\n",
      "NU_NOTA_CN                0.584941\n",
      "NU_NOTA_CH                0.529594\n",
      "NU_NOTA_LC                0.494695\n",
      "NU_NOTA_REDACAO           0.379376\n",
      "TP_DEPENDENCIA_ADM_ESC    0.373233\n",
      "NU_NOTA_COMP3             0.350307\n",
      "NU_NOTA_COMP5             0.343337\n",
      "NU_NOTA_COMP4             0.342282\n",
      "NU_NOTA_COMP2             0.335638\n",
      "Name: NU_NOTA_MT, dtype: float64 \n",
      "\n",
      "IN_MARCA_PASSO             NaN\n",
      "IN_SONDA                   NaN\n",
      "IN_MEDICAMENTOS            NaN\n",
      "IN_SALA_INDIVIDUAL         NaN\n",
      "IN_SALA_ESPECIAL           NaN\n",
      "IN_SALA_ACOMPANHANTE       NaN\n",
      "IN_MOBILIARIO_ESPECIFICO   NaN\n",
      "IN_MATERIAL_ESPECIFICO     NaN\n",
      "TP_PRESENCA_LC             NaN\n",
      "TP_PRESENCA_MT             NaN\n",
      "Name: NU_NOTA_MT, dtype: float64\n"
     ]
    }
   ],
   "source": [
    "numeric_features = train.select_dtypes(include=[np.number])\n",
    "corr = numeric_features.corr()\n",
    "print (corr['NU_NOTA_MT'].sort_values(ascending=False)[:10], '\\n')\n",
    "print (corr['NU_NOTA_MT'].sort_values(ascending=False)[-10:])"
   ]
  },
  {
   "cell_type": "code",
   "execution_count": 4,
   "metadata": {},
   "outputs": [],
   "source": [
    "#features = ['NU_INSCRICAO', 'NU_NOTA_CN', 'NU_NOTA_CH', 'NU_NOTA_LC', 'NU_NOTA_REDACAO', 'NU_NOTA_COMP1', 'NU_NOTA_COMP2','NU_NOTA_COMP3', 'NU_NOTA_COMP4', 'NU_NOTA_COMP5']\n",
    "features = ['NU_NOTA_CN', 'NU_NOTA_CH', 'NU_NOTA_LC', 'NU_NOTA_REDACAO',\n",
    "            'NU_NOTA_COMP1', 'NU_NOTA_COMP2','NU_NOTA_COMP3', 'NU_NOTA_COMP4', 'NU_NOTA_COMP5']\n",
    "features_corr = ['NU_NOTA_MT', 'NU_NOTA_CN', 'NU_NOTA_CH', 'NU_NOTA_LC', 'NU_NOTA_REDACAO',\n",
    "                 'NU_NOTA_COMP1', 'NU_NOTA_COMP2','NU_NOTA_COMP3', 'NU_NOTA_COMP4', 'NU_NOTA_COMP5']\n",
    "df_train = train[features_corr]\n",
    "df_test = test[features]"
   ]
  },
  {
   "cell_type": "code",
   "execution_count": 5,
   "metadata": {},
   "outputs": [
    {
     "data": {
      "text/plain": [
       "(13730, 10)"
      ]
     },
     "execution_count": 5,
     "metadata": {},
     "output_type": "execute_result"
    }
   ],
   "source": [
    "df_train.shape"
   ]
  },
  {
   "cell_type": "code",
   "execution_count": 6,
   "metadata": {},
   "outputs": [
    {
     "data": {
      "image/png": "[encoded data removed]",
      "text/plain": [
       "<Figure size 432x288 with 1 Axes>"
      ]
     },
     "metadata": {
      "needs_background": "light"
     },
     "output_type": "display_data"
    }
   ],
   "source": [
    "x0 = df_train['NU_NOTA_CN'].fillna(0)\n",
    "x1 = df_test['NU_NOTA_CN'].fillna(0)\n",
    "\n",
    "\n",
    "sns.distplot(x0)\n",
    "sns.distplot(x1)\n",
    "plt.legend(labels=['TRAIN','TEST'], ncol=2, loc='upper left');"
   ]
  },
  {
   "cell_type": "code",
   "execution_count": 7,
   "metadata": {},
   "outputs": [
    {
     "data": {
      "text/plain": [
       "NU_NOTA_MT         3597\n",
       "NU_NOTA_CN         3389\n",
       "NU_NOTA_CH         3389\n",
       "NU_NOTA_LC         3597\n",
       "NU_NOTA_REDACAO    3597\n",
       "NU_NOTA_COMP1      3597\n",
       "NU_NOTA_COMP2      3597\n",
       "NU_NOTA_COMP3      3597\n",
       "NU_NOTA_COMP4      3597\n",
       "NU_NOTA_COMP5      3597\n",
       "dtype: int64"
      ]
     },
     "execution_count": 7,
     "metadata": {},
     "output_type": "execute_result"
    }
   ],
   "source": [
    "df_train.isnull().sum()"
   ]
  },
  {
   "cell_type": "code",
   "execution_count": 8,
   "metadata": {},
   "outputs": [
    {
     "data": {
      "text/plain": [
       "NU_NOTA_CN         1134\n",
       "NU_NOTA_CH         1134\n",
       "NU_NOTA_LC         1199\n",
       "NU_NOTA_REDACAO    1199\n",
       "NU_NOTA_COMP1      1199\n",
       "NU_NOTA_COMP2      1199\n",
       "NU_NOTA_COMP3      1199\n",
       "NU_NOTA_COMP4      1199\n",
       "NU_NOTA_COMP5      1199\n",
       "dtype: int64"
      ]
     },
     "execution_count": 8,
     "metadata": {},
     "output_type": "execute_result"
    }
   ],
   "source": [
    "df_test.isnull().sum()"
   ]
  },
  {
   "cell_type": "code",
   "execution_count": 9,
   "metadata": {},
   "outputs": [
    {
     "name": "stderr",
     "output_type": "stream",
     "text": [
      "/home/eduardo/anaconda3/lib/python3.7/site-packages/pandas/core/frame.py:4034: SettingWithCopyWarning: \n",
      "A value is trying to be set on a copy of a slice from a DataFrame\n",
      "\n",
      "See the caveats in the documentation: http://pandas.pydata.org/pandas-docs/stable/indexing.html#indexing-view-versus-copy\n",
      "  downcast=downcast, **kwargs)\n"
     ]
    }
   ],
   "source": [
    "df_train.fillna(0,inplace=True)"
   ]
  },
  {
   "cell_type": "code",
   "execution_count": 10,
   "metadata": {},
   "outputs": [],
   "source": [
    "df_test.fillna(0,inplace=True)"
   ]
  },
  {
   "cell_type": "code",
   "execution_count": 11,
   "metadata": {},
   "outputs": [
    {
     "name": "stderr",
     "output_type": "stream",
     "text": [
      "/home/eduardo/anaconda3/lib/python3.7/site-packages/pandas/core/frame.py:3940: SettingWithCopyWarning: \n",
      "A value is trying to be set on a copy of a slice from a DataFrame\n",
      "\n",
      "See the caveats in the documentation: http://pandas.pydata.org/pandas-docs/stable/indexing.html#indexing-view-versus-copy\n",
      "  errors=errors)\n"
     ]
    }
   ],
   "source": [
    "y_train = df_train['NU_NOTA_MT']\n",
    "df_train.drop('NU_NOTA_MT', axis=1, inplace=True)\n",
    "x_train = df_train\n",
    "x_test = df_test[features]\n",
    "x_train = sc.fit_transform(x_train)  \n",
    "x_test = sc.transform(x_test)"
   ]
  },
  {
   "cell_type": "code",
   "execution_count": 12,
   "metadata": {},
   "outputs": [],
   "source": [
    "from sklearn.ensemble import RandomForestRegressor\n",
    "regressor = RandomForestRegressor( \n",
    "           criterion='mae', \n",
    "           max_depth=8,\n",
    "           max_leaf_nodes=None,\n",
    "           min_impurity_split=None,\n",
    "           min_samples_leaf=1,\n",
    "           min_samples_split=2,\n",
    "           min_weight_fraction_leaf=0.0,\n",
    "           n_estimators= 500,\n",
    "           n_jobs=-1,\n",
    "           random_state=0,\n",
    "           verbose=0,\n",
    "           warm_start=False\n",
    ")   "
   ]
  },
  {
   "cell_type": "code",
   "execution_count": null,
   "metadata": {},
   "outputs": [],
   "source": [
    "regressor.fit(x_train, y_train) "
   ]
  },
  {
   "cell_type": "code",
   "execution_count": null,
   "metadata": {},
   "outputs": [],
   "source": [
    "x_test = df_test[features] \n",
    "x_test = sc.transform(x_test)"
   ]
  },
  {
   "cell_type": "code",
   "execution_count": null,
   "metadata": {},
   "outputs": [],
   "source": [
    "y_pred_test = regressor.predict(x_test)\n",
    "y_pred_train = regressor.predict(x_train)"
   ]
  },
  {
   "cell_type": "code",
   "execution_count": null,
   "metadata": {},
   "outputs": [],
   "source": [
    "print('MAE:', metrics.mean_absolute_error(y_train, y_pred_train).round(8)  )\n",
    "print('MSE:', metrics.mean_squared_error(y_train, y_pred_train).round(8) )  \n",
    "print('RMSE:', np.sqrt(metrics.mean_squared_error(y_train, y_pred_train)).round(8))"
   ]
  },
  {
   "cell_type": "code",
   "execution_count": null,
   "metadata": {},
   "outputs": [],
   "source": [
    "y_pred_test"
   ]
  },
  {
   "cell_type": "code",
   "execution_count": null,
   "metadata": {},
   "outputs": [],
   "source": [
    "submission = pd.DataFrame()\n",
    "submission['NU_INSCRICAO'] = test.NU_INSCRICAO\n",
    "submission['NU_NOTA_MT'] = y_pred_test.round(1)"
   ]
  },
  {
   "cell_type": "code",
   "execution_count": null,
   "metadata": {},
   "outputs": [],
   "source": [
    "submission.sample(20)"
   ]
  },
  {
   "cell_type": "code",
   "execution_count": null,
   "metadata": {},
   "outputs": [],
   "source": [
    "submission.to_csv('answer.csv', index=False, header=True)"
   ]
  },
  {
   "cell_type": "code",
   "execution_count": null,
   "metadata": {},
   "outputs": [],
   "source": []
  }
 ],
 "metadata": {
  "kernelspec": {
   "display_name": "Python 3",
   "language": "python",
   "name": "python3"
  },
  "language_info": {
   "codemirror_mode": {
    "name": "ipython",
    "version": 3
   },
   "file_extension": ".py",
   "mimetype": "text/x-python",
   "name": "python",
   "nbconvert_exporter": "python",
   "pygments_lexer": "ipython3",
   "version": "3.7.3"
  }
 },
 "nbformat": 4,
 "nbformat_minor": 2
}
